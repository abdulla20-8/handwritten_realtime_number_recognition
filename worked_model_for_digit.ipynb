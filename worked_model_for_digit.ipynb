{
 "cells": [
  {
   "cell_type": "code",
   "execution_count": null,
   "metadata": {},
   "outputs": [],
   "source": [
    "# https://colab.research.google.com/drive/1kSAAY8LerTBX-Hi22_K8sLppYxemeB1o?usp=sharing"
   ]
  },
  {
   "cell_type": "code",
   "execution_count": null,
   "metadata": {
    "id": "HcT3ANdtXmjk"
   },
   "outputs": [],
   "source": [
    "import pandas as pd\n",
    "import numpy as np\n",
    "import matplotlib.pyplot as plt\n",
    "import matplotlib.image as mpimg\n",
    "import seaborn as sns\n",
    "%matplotlib inline\n",
    "\n",
    "np.random.seed(2)\n",
    "\n",
    "from sklearn.model_selection import train_test_split\n",
    "from sklearn.metrics import confusion_matrix\n",
    "import itertools\n",
    "\n",
    "from keras.utils.np_utils import to_categorical # convert to one-hot-encoding\n",
    "from keras.models import Sequential\n",
    "from keras.layers import Dense, Dropout, Flatten, Conv2D, MaxPool2D\n",
    "from keras.optimizers import RMSprop\n",
    "from keras.preprocessing.image import ImageDataGenerator\n",
    "from keras.callbacks import ReduceLROnPlateau"
   ]
  },
  {
   "cell_type": "code",
   "execution_count": null,
   "metadata": {
    "colab": {
     "base_uri": "https://localhost:8080/"
    },
    "id": "GSboKOp-VO7n",
    "outputId": "809951a0-e94e-477c-f723-eebb6fd88f27"
   },
   "outputs": [
    {
     "name": "stdout",
     "output_type": "stream",
     "text": [
      "Mounted at /content/drive\n"
     ]
    }
   ],
   "source": [
    "from google.colab import drive\n",
    "\n",
    "drive.mount('/content/drive')\n",
    "\n",
    "!cp /content/drive/MyDrive/abdulla/Number/anotation_28x28/Test.csv .\n",
    "!cp /content/drive/MyDrive/abdulla/Number/anotation_28x28/Train.csv .\n",
    "\n",
    "!rm -rf sample_data"
   ]
  },
  {
   "cell_type": "code",
   "execution_count": null,
   "metadata": {
    "id": "enMBFPZLVRMM"
   },
   "outputs": [],
   "source": [
    "import pandas as pd \n",
    "import seaborn as sns\n",
    "\n",
    "train = pd.read_csv(\"Train.csv\")\n",
    "test = pd.read_csv(\"Test.csv\")"
   ]
  },
  {
   "cell_type": "code",
   "execution_count": null,
   "metadata": {
    "colab": {
     "base_uri": "https://localhost:8080/",
     "height": 539
    },
    "id": "1pmGo6loWRIe",
    "outputId": "f28ad938-e495-407b-dd64-2d5ee232f834"
   },
   "outputs": [
    {
     "name": "stderr",
     "output_type": "stream",
     "text": [
      "/usr/local/lib/python3.8/dist-packages/seaborn/_decorators.py:36: FutureWarning: Pass the following variable as a keyword arg: x. From version 0.12, the only valid positional argument will be `data`, and passing other arguments without an explicit keyword will result in an error or misinterpretation.\n",
      "  warnings.warn(\n"
     ]
    },
    {
     "data": {
      "text/plain": [
       "0    5925\n",
       "1    5924\n",
       "2    5924\n",
       "3    5924\n",
       "4    5924\n",
       "5    5924\n",
       "6    5924\n",
       "7    5924\n",
       "8    5924\n",
       "9    5924\n",
       "Name: label, dtype: int64"
      ]
     },
     "execution_count": 24,
     "metadata": {},
     "output_type": "execute_result"
    },
    {
     "data": {
      "image/png": "[encoded data removed]",
      "text/plain": [
       "<Figure size 432x288 with 1 Axes>"
      ]
     },
     "metadata": {
      "needs_background": "light"
     },
     "output_type": "display_data"
    }
   ],
   "source": [
    "Y_train = train[\"label\"]\n",
    "\n",
    "# Drop 'label' column\n",
    "X_train = train.drop(labels = [\"label\"],axis = 1) \n",
    "\n",
    "# free some space\n",
    "del train \n",
    "\n",
    "g = sns.countplot(Y_train)\n",
    "\n",
    "Y_train.value_counts()"
   ]
  },
  {
   "cell_type": "code",
   "execution_count": null,
   "metadata": {
    "colab": {
     "base_uri": "https://localhost:8080/"
    },
    "id": "6Xj_yM6YWOUM",
    "outputId": "2f8e518c-4e3a-4e88-f028-b594f113f466"
   },
   "outputs": [
    {
     "data": {
      "text/plain": [
       "count       784\n",
       "unique        1\n",
       "top       False\n",
       "freq        784\n",
       "dtype: object"
      ]
     },
     "execution_count": 25,
     "metadata": {},
     "output_type": "execute_result"
    }
   ],
   "source": [
    "# Check the data\n",
    "X_train.isnull().any().describe()"
   ]
  },
  {
   "cell_type": "code",
   "execution_count": null,
   "metadata": {
    "colab": {
     "base_uri": "https://localhost:8080/"
    },
    "id": "sliD4w8nWM0P",
    "outputId": "913f4055-cd15-4775-b708-d284928625dc"
   },
   "outputs": [
    {
     "data": {
      "text/plain": [
       "count       784\n",
       "unique        1\n",
       "top       False\n",
       "freq        784\n",
       "dtype: object"
      ]
     },
     "execution_count": 26,
     "metadata": {},
     "output_type": "execute_result"
    }
   ],
   "source": [
    "test.isnull().any().describe()"
   ]
  },
  {
   "cell_type": "code",
   "execution_count": null,
   "metadata": {
    "id": "XUcDWzR8WLM9"
   },
   "outputs": [],
   "source": [
    "# Normalize the data\n",
    "X_train = X_train / 255.0\n",
    "test = test / 255.0"
   ]
  },
  {
   "cell_type": "code",
   "execution_count": null,
   "metadata": {
    "id": "CDME31IbWJhk"
   },
   "outputs": [],
   "source": [
    "# Reshape image in 3 dimensions (height = 28px, width = 28px , canal = 1)\n",
    "X_train = X_train.values.reshape(-1,28,28,1)\n",
    "test = test.values.reshape(-1,28,28,1)"
   ]
  },
  {
   "cell_type": "code",
   "execution_count": null,
   "metadata": {
    "id": "LQiqgLHoWIoG"
   },
   "outputs": [],
   "source": [
    "from keras.utils import to_categorical\n",
    "\n",
    "# Encode labels to one hot vectors (ex : 2 -> [0,0,1,0,0,0,0,0,0,0])\n",
    "Y_train = to_categorical(Y_train, num_classes = 10)"
   ]
  },
  {
   "cell_type": "code",
   "execution_count": null,
   "metadata": {
    "id": "VRDDgdpQWD8f"
   },
   "outputs": [],
   "source": [
    "from sklearn.model_selection import train_test_split\n",
    "\n",
    "# Split the train and the validation set for the fitting\n",
    "X_train, X_val, Y_train, Y_val = train_test_split(X_train, Y_train, test_size = 0.1)"
   ]
  },
  {
   "cell_type": "code",
   "execution_count": null,
   "metadata": {
    "id": "nGY-GLhYVbYP"
   },
   "outputs": [],
   "source": [
    "from keras.utils import to_categorical\n",
    "\n",
    "y_train = to_categorical(Y_train, num_classes = 10, dtype = 'float32')\n",
    "y_test = to_categorical(Y_val, num_classes = 10, dtype = 'float32')"
   ]
  },
  {
   "cell_type": "code",
   "execution_count": null,
   "metadata": {
    "colab": {
     "base_uri": "https://localhost:8080/"
    },
    "id": "4M6qt1zIVfLL",
    "outputId": "68584a59-4013-4d54-fc3d-c2e4e531bb18"
   },
   "outputs": [
    {
     "data": {
      "text/plain": [
       "(53316, 10, 10)"
      ]
     },
     "execution_count": 32,
     "metadata": {},
     "output_type": "execute_result"
    }
   ],
   "source": [
    "y_train.shape"
   ]
  },
  {
   "cell_type": "code",
   "execution_count": null,
   "metadata": {
    "id": "b-SXYqjmVgd5"
   },
   "outputs": [],
   "source": [
    "# # # Reshaping the array to include the RGB value. Here RGB value is 1 since it is a b&w image\n",
    "\n",
    "# x_train = X_train.values.reshape(-1,28,28,1)\n",
    "# x_test = X_val.values.reshape(-1,28,28,1)"
   ]
  },
  {
   "cell_type": "code",
   "execution_count": null,
   "metadata": {
    "id": "caVVu9RgVh5-"
   },
   "outputs": [],
   "source": [
    "# Converting the arrays to float so that we can get decimal points after division\n",
    "x_train = X_train.astype('float32')\n",
    "x_test = X_val.astype('float32')"
   ]
  },
  {
   "cell_type": "code",
   "execution_count": null,
   "metadata": {
    "id": "WVRBSoPZV0XP"
   },
   "outputs": [],
   "source": [
    "# Normalizing the RGB codes by dividing it to the maximum RGB value.\n",
    "x_train /= 255\n",
    "x_test /= 255"
   ]
  },
  {
   "cell_type": "code",
   "execution_count": null,
   "metadata": {
    "colab": {
     "base_uri": "https://localhost:8080/"
    },
    "id": "L_NjSAOXV18y",
    "outputId": "1a04766f-7e34-4688-8bb9-b1734529c8d1"
   },
   "outputs": [
    {
     "name": "stdout",
     "output_type": "stream",
     "text": [
      "x_train shape: (53316, 28, 28, 1)\n",
      "y_train shape: (53316, 10, 10)\n",
      "Number of images in x_train 53316\n",
      "Number of images in x_test 5925\n"
     ]
    }
   ],
   "source": [
    "#Checking the shapes of x_train and y_train \n",
    "print('x_train shape:', x_train.shape)\n",
    "print('y_train shape:', y_train.shape)\n",
    "print('Number of images in x_train', x_train.shape[0])\n",
    "print('Number of images in x_test', x_test.shape[0])"
   ]
  },
  {
   "cell_type": "code",
   "execution_count": null,
   "metadata": {
    "id": "lUGM8CYEV32s"
   },
   "outputs": [],
   "source": [
    "#Initializing the input shape\n",
    "input_shape = (28, 28, 1)"
   ]
  },
  {
   "cell_type": "code",
   "execution_count": null,
   "metadata": {
    "colab": {
     "base_uri": "https://localhost:8080/"
    },
    "id": "HU0hRCWXUWb-",
    "outputId": "f339463b-e3cb-48ac-af50-5b22a5d7b010"
   },
   "outputs": [
    {
     "name": "stdout",
     "output_type": "stream",
     "text": [
      "Epoch 1/30\n",
      "1667/1667 [==============================] - 9s 4ms/step - loss: 0.1805 - accuracy: 0.9433\n",
      "Epoch 2/30\n",
      "1667/1667 [==============================] - 10s 6ms/step - loss: 0.0587 - accuracy: 0.9824\n",
      "Epoch 3/30\n",
      "1667/1667 [==============================] - 7s 4ms/step - loss: 0.0445 - accuracy: 0.9870\n",
      "Epoch 4/30\n",
      "1667/1667 [==============================] - 8s 5ms/step - loss: 0.0412 - accuracy: 0.9879\n",
      "Epoch 5/30\n",
      "1667/1667 [==============================] - 7s 4ms/step - loss: 0.0316 - accuracy: 0.9909\n",
      "Epoch 6/30\n",
      "1667/1667 [==============================] - 8s 5ms/step - loss: 0.0351 - accuracy: 0.9904\n",
      "Epoch 7/30\n",
      "1667/1667 [==============================] - 8s 5ms/step - loss: 0.0303 - accuracy: 0.9917\n",
      "Epoch 8/30\n",
      "1667/1667 [==============================] - 8s 5ms/step - loss: 0.0263 - accuracy: 0.9932\n",
      "Epoch 9/30\n",
      "1667/1667 [==============================] - 8s 5ms/step - loss: 0.0291 - accuracy: 0.9930\n",
      "Epoch 10/30\n",
      "1667/1667 [==============================] - 7s 4ms/step - loss: 0.0293 - accuracy: 0.9929\n",
      "Epoch 11/30\n",
      "1667/1667 [==============================] - 8s 5ms/step - loss: 0.0296 - accuracy: 0.9936\n",
      "Epoch 12/30\n",
      "1667/1667 [==============================] - 7s 4ms/step - loss: 0.0251 - accuracy: 0.9942\n",
      "Epoch 13/30\n",
      "1667/1667 [==============================] - 8s 5ms/step - loss: 0.0272 - accuracy: 0.9941\n",
      "Epoch 14/30\n",
      "1667/1667 [==============================] - 7s 4ms/step - loss: 0.0292 - accuracy: 0.9945\n",
      "Epoch 15/30\n",
      "1667/1667 [==============================] - 8s 5ms/step - loss: 0.0272 - accuracy: 0.9948\n",
      "Epoch 16/30\n",
      "1667/1667 [==============================] - 7s 4ms/step - loss: 0.0261 - accuracy: 0.9955\n",
      "Epoch 17/30\n",
      "1667/1667 [==============================] - 8s 5ms/step - loss: 0.0277 - accuracy: 0.9949\n",
      "Epoch 18/30\n",
      "1667/1667 [==============================] - 7s 4ms/step - loss: 0.0285 - accuracy: 0.9950\n",
      "Epoch 19/30\n",
      "1667/1667 [==============================] - 8s 5ms/step - loss: 0.0286 - accuracy: 0.9955\n",
      "Epoch 20/30\n",
      "1667/1667 [==============================] - 7s 4ms/step - loss: 0.0339 - accuracy: 0.9952\n",
      "Epoch 21/30\n",
      "1667/1667 [==============================] - 8s 5ms/step - loss: 0.0258 - accuracy: 0.9962\n",
      "Epoch 22/30\n",
      "1667/1667 [==============================] - 7s 4ms/step - loss: 0.0318 - accuracy: 0.9959\n",
      "Epoch 23/30\n",
      "1667/1667 [==============================] - 8s 5ms/step - loss: 0.0314 - accuracy: 0.9959\n",
      "Epoch 24/30\n",
      "1667/1667 [==============================] - 8s 5ms/step - loss: 0.0332 - accuracy: 0.9955\n",
      "Epoch 25/30\n",
      "1667/1667 [==============================] - 7s 4ms/step - loss: 0.0287 - accuracy: 0.9962\n",
      "Epoch 26/30\n",
      "1667/1667 [==============================] - 8s 5ms/step - loss: 0.0371 - accuracy: 0.9961\n",
      "Epoch 27/30\n",
      "1667/1667 [==============================] - 7s 4ms/step - loss: 0.0278 - accuracy: 0.9971\n",
      "Epoch 28/30\n",
      "1667/1667 [==============================] - 8s 5ms/step - loss: 0.0307 - accuracy: 0.9967\n",
      "Epoch 29/30\n",
      "1667/1667 [==============================] - 7s 4ms/step - loss: 0.0246 - accuracy: 0.9969\n",
      "Epoch 30/30\n",
      "1667/1667 [==============================] - 8s 5ms/step - loss: 0.0314 - accuracy: 0.9966\n",
      "186/186 [==============================] - 1s 3ms/step - loss: 0.2183 - accuracy: 0.9872\n",
      "1667/1667 [==============================] - 5s 3ms/step - loss: 0.0187 - accuracy: 0.9978\n"
     ]
    },
    {
     "data": {
      "text/plain": [
       "[0.018729358911514282, 0.9977867603302002]"
      ]
     },
     "execution_count": 40,
     "metadata": {},
     "output_type": "execute_result"
    }
   ],
   "source": [
    "import tensorflow as tf\n",
    "from tensorflow import keras\n",
    "\n",
    "# load the data\n",
    "X_train, X_val, Y_train, Y_val\n",
    "\n",
    "# (train_img,train_label),(test_img,test_label) = keras.datasets.mnist.load_data()\n",
    "# train_img = train_img.reshape([-1, 28, 28, 1])\n",
    "# test_img = test_img.reshape([-1, 28, 28, 1])\n",
    "# train_img = train_img/255.0\n",
    "# test_img = test_img/255.0\n",
    "# train_label = keras.utils.to_categorical(train_label)\n",
    "# test_label = keras.utils.to_categorical(test_label)\n",
    "\n",
    "# define the model architecture\n",
    "model = keras.Sequential([\n",
    "    keras.layers.Conv2D(32, (5, 5), padding=\"same\", input_shape=[28, 28, 1]),\n",
    "    keras.layers.MaxPool2D((2,2)),\n",
    "    keras.layers.Conv2D(64, (5, 5), padding=\"same\"),\n",
    "    keras.layers.MaxPool2D((2,2)),\n",
    "    keras.layers.Flatten(),\n",
    "    keras.layers.Dense(1024, activation='relu'),\n",
    "    keras.layers.Dropout(0.2),\n",
    "    keras.layers.Dense(10, activation='softmax')\n",
    "])\n",
    "model.compile(optimizer='adam', loss='categorical_crossentropy', metrics=['accuracy'])\n",
    "\n",
    "# train the model\n",
    "model.fit(x=X_train,y=Y_train, epochs=30)\n",
    "model.evaluate(X_val, Y_val)\n",
    "model.evaluate(X_train, Y_train)"
   ]
  },
  {
   "cell_type": "code",
   "execution_count": null,
   "metadata": {
    "id": "lDmeKhy1UzMQ"
   },
   "outputs": [],
   "source": [
    "model.save(\"model.h5\")"
   ]
  },
  {
   "cell_type": "code",
   "execution_count": null,
   "metadata": {
    "id": "R8Ncx-PcZE56"
   },
   "outputs": [],
   "source": [
    "!cp -r /content/drive/MyDrive/abdulla/Number/ ."
   ]
  }
 ],
 "metadata": {
  "accelerator": "GPU",
  "colab": {
   "provenance": []
  },
  "gpuClass": "standard",
  "kernelspec": {
   "display_name": "Python 3 (ipykernel)",
   "language": "python",
   "name": "python3"
  },
  "language_info": {
   "codemirror_mode": {
    "name": "ipython",
    "version": 3
   },
   "file_extension": ".py",
   "mimetype": "text/x-python",
   "name": "python",
   "nbconvert_exporter": "python",
   "pygments_lexer": "ipython3",
   "version": "3.10.6"
  }
 },
 "nbformat": 4,
 "nbformat_minor": 1
}
